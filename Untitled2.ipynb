{
  "nbformat": 4,
  "nbformat_minor": 0,
  "metadata": {
    "colab": {
      "provenance": [],
      "authorship_tag": "ABX9TyMho+mIBdo15HqOpe78u3oh",
      "include_colab_link": true
    },
    "kernelspec": {
      "name": "python3",
      "display_name": "Python 3"
    },
    "language_info": {
      "name": "python"
    }
  },
  "cells": [
    {
      "cell_type": "markdown",
      "metadata": {
        "id": "view-in-github",
        "colab_type": "text"
      },
      "source": [
        "<a href=\"https://colab.research.google.com/github/jyoshini26/POAI-exp-3/blob/main/Untitled2.ipynb\" target=\"_parent\"><img src=\"https://colab.research.google.com/assets/colab-badge.svg\" alt=\"Open In Colab\"/></a>"
      ]
    },
    {
      "cell_type": "code",
      "execution_count": 1,
      "metadata": {
        "colab": {
          "base_uri": "https://localhost:8080/"
        },
        "id": "fqMRaNxslgjN",
        "outputId": "e26c365f-1ebf-4e0a-f37e-0e93ec46c35b"
      },
      "outputs": [
        {
          "output_type": "stream",
          "name": "stdout",
          "text": [
            "The optimal value is: 5\n"
          ]
        }
      ],
      "source": [
        "def minimax(depth, node_index, is_max, scores, height):\n",
        "    if depth == height:\n",
        "        return scores[node_index]\n",
        "\n",
        "    if is_max:\n",
        "        return max(\n",
        "            minimax(depth + 1, node_index * 2, False, scores, height),\n",
        "            minimax(depth + 1, node_index * 2 + 1, False, scores, height)\n",
        "        )\n",
        "    else:\n",
        "        return min(\n",
        "            minimax(depth + 1, node_index * 2, True, scores, height),\n",
        "            minimax(depth + 1, node_index * 2 + 1, True, scores, height)\n",
        "        )\n",
        "\n",
        "# Example usage\n",
        "scores = [3, 5, 6, 9, 1, 2, 0, -1]  # Leaf nodes of the game tree\n",
        "height = 3  # log2(len(scores))\n",
        "\n",
        "optimal_value = minimax(0, 0, True, scores, height)\n",
        "print(\"The optimal value is:\", optimal_value)\n"
      ]
    }
  ]
}